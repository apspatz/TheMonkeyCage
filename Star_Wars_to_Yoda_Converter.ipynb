{
 "cells": [
  {
   "cell_type": "code",
   "execution_count": 73,
   "metadata": {},
   "outputs": [],
   "source": [
    "# Dependencies\n",
    "import pandas as pd"
   ]
  },
  {
   "cell_type": "code",
   "execution_count": 74,
   "metadata": {},
   "outputs": [],
   "source": [
    "# Load in file\n",
    "csv_file = \"Star_Wars.csv\""
   ]
  },
  {
   "cell_type": "code",
   "execution_count": 75,
   "metadata": {},
   "outputs": [
    {
     "name": "stdout",
     "output_type": "stream",
     "text": [
      "Star_Wars.csv\n"
     ]
    }
   ],
   "source": [
    "print(csv_file)"
   ]
  },
  {
   "cell_type": "code",
   "execution_count": 76,
   "metadata": {},
   "outputs": [
    {
     "data": {
      "text/html": [
       "<div>\n",
       "<style scoped>\n",
       "    .dataframe tbody tr th:only-of-type {\n",
       "        vertical-align: middle;\n",
       "    }\n",
       "\n",
       "    .dataframe tbody tr th {\n",
       "        vertical-align: top;\n",
       "    }\n",
       "\n",
       "    .dataframe thead th {\n",
       "        text-align: right;\n",
       "    }\n",
       "</style>\n",
       "<table border=\"1\" class=\"dataframe\">\n",
       "  <thead>\n",
       "    <tr style=\"text-align: right;\">\n",
       "      <th></th>\n",
       "      <th>movie</th>\n",
       "      <th>scene</th>\n",
       "      <th>line</th>\n",
       "      <th>character</th>\n",
       "      <th>text</th>\n",
       "      <th>slug</th>\n",
       "      <th>component</th>\n",
       "    </tr>\n",
       "  </thead>\n",
       "  <tbody>\n",
       "    <tr>\n",
       "      <td>0</td>\n",
       "      <td>1</td>\n",
       "      <td>129</td>\n",
       "      <td>1158</td>\n",
       "      <td>narrator</td>\n",
       "      <td>QUI-GON stands in a tall stately room. Twelve ...</td>\n",
       "      <td>INT. TEMPLE OF THE JEDI - COUNCIL CHAMBERS - DAY</td>\n",
       "      <td>action</td>\n",
       "    </tr>\n",
       "    <tr>\n",
       "      <td>1</td>\n",
       "      <td>1</td>\n",
       "      <td>129</td>\n",
       "      <td>1159</td>\n",
       "      <td>QUI-GON</td>\n",
       "      <td>...my only conclusion can be that it was a Sit...</td>\n",
       "      <td>INT. TEMPLE OF THE JEDI - COUNCIL CHAMBERS - DAY</td>\n",
       "      <td>character</td>\n",
       "    </tr>\n",
       "    <tr>\n",
       "      <td>2</td>\n",
       "      <td>1</td>\n",
       "      <td>129</td>\n",
       "      <td>1160</td>\n",
       "      <td>MACE WINDU</td>\n",
       "      <td>A Sith Lord?!?</td>\n",
       "      <td>INT. TEMPLE OF THE JEDI - COUNCIL CHAMBERS - DAY</td>\n",
       "      <td>character</td>\n",
       "    </tr>\n",
       "    <tr>\n",
       "      <td>3</td>\n",
       "      <td>1</td>\n",
       "      <td>129</td>\n",
       "      <td>1161</td>\n",
       "      <td>KI-ADI</td>\n",
       "      <td>Impossible! The Sith have been extinct for a m...</td>\n",
       "      <td>INT. TEMPLE OF THE JEDI - COUNCIL CHAMBERS - DAY</td>\n",
       "      <td>character</td>\n",
       "    </tr>\n",
       "    <tr>\n",
       "      <td>4</td>\n",
       "      <td>1</td>\n",
       "      <td>129</td>\n",
       "      <td>1162</td>\n",
       "      <td>YODA</td>\n",
       "      <td>The very Republic is threatened, if involved t...</td>\n",
       "      <td>INT. TEMPLE OF THE JEDI - COUNCIL CHAMBERS - DAY</td>\n",
       "      <td>character</td>\n",
       "    </tr>\n",
       "  </tbody>\n",
       "</table>\n",
       "</div>"
      ],
      "text/plain": [
       "   movie  scene  line   character  \\\n",
       "0      1    129  1158    narrator   \n",
       "1      1    129  1159     QUI-GON   \n",
       "2      1    129  1160  MACE WINDU   \n",
       "3      1    129  1161      KI-ADI   \n",
       "4      1    129  1162        YODA   \n",
       "\n",
       "                                                text  \\\n",
       "0  QUI-GON stands in a tall stately room. Twelve ...   \n",
       "1  ...my only conclusion can be that it was a Sit...   \n",
       "2                                     A Sith Lord?!?   \n",
       "3  Impossible! The Sith have been extinct for a m...   \n",
       "4  The very Republic is threatened, if involved t...   \n",
       "\n",
       "                                               slug  component  \n",
       "0  INT. TEMPLE OF THE JEDI - COUNCIL CHAMBERS - DAY     action  \n",
       "1  INT. TEMPLE OF THE JEDI - COUNCIL CHAMBERS - DAY  character  \n",
       "2  INT. TEMPLE OF THE JEDI - COUNCIL CHAMBERS - DAY  character  \n",
       "3  INT. TEMPLE OF THE JEDI - COUNCIL CHAMBERS - DAY  character  \n",
       "4  INT. TEMPLE OF THE JEDI - COUNCIL CHAMBERS - DAY  character  "
      ]
     },
     "execution_count": 76,
     "metadata": {},
     "output_type": "execute_result"
    }
   ],
   "source": [
    "# Read and display the CSV with Pandas\n",
    "csv_file_pd = pd.read_csv(csv_file)\n",
    "csv_file_pd.head()"
   ]
  },
  {
   "cell_type": "code",
   "execution_count": 77,
   "metadata": {},
   "outputs": [
    {
     "data": {
      "text/plain": [
       "Index(['movie', 'scene', 'line', 'character', 'text', 'slug', 'component'], dtype='object')"
      ]
     },
     "execution_count": 77,
     "metadata": {},
     "output_type": "execute_result"
    }
   ],
   "source": [
    "# List all the columns in the table\n",
    "csv_file_pd.columns"
   ]
  },
  {
   "cell_type": "code",
   "execution_count": 78,
   "metadata": {},
   "outputs": [
    {
     "data": {
      "text/html": [
       "<div>\n",
       "<style scoped>\n",
       "    .dataframe tbody tr th:only-of-type {\n",
       "        vertical-align: middle;\n",
       "    }\n",
       "\n",
       "    .dataframe tbody tr th {\n",
       "        vertical-align: top;\n",
       "    }\n",
       "\n",
       "    .dataframe thead th {\n",
       "        text-align: right;\n",
       "    }\n",
       "</style>\n",
       "<table border=\"1\" class=\"dataframe\">\n",
       "  <thead>\n",
       "    <tr style=\"text-align: right;\">\n",
       "      <th></th>\n",
       "      <th>character</th>\n",
       "      <th>text</th>\n",
       "    </tr>\n",
       "  </thead>\n",
       "  <tbody>\n",
       "    <tr>\n",
       "      <td>0</td>\n",
       "      <td>narrator</td>\n",
       "      <td>QUI-GON stands in a tall stately room. Twelve ...</td>\n",
       "    </tr>\n",
       "    <tr>\n",
       "      <td>1</td>\n",
       "      <td>QUI-GON</td>\n",
       "      <td>...my only conclusion can be that it was a Sit...</td>\n",
       "    </tr>\n",
       "    <tr>\n",
       "      <td>2</td>\n",
       "      <td>MACE WINDU</td>\n",
       "      <td>A Sith Lord?!?</td>\n",
       "    </tr>\n",
       "    <tr>\n",
       "      <td>3</td>\n",
       "      <td>KI-ADI</td>\n",
       "      <td>Impossible! The Sith have been extinct for a m...</td>\n",
       "    </tr>\n",
       "    <tr>\n",
       "      <td>4</td>\n",
       "      <td>YODA</td>\n",
       "      <td>The very Republic is threatened, if involved t...</td>\n",
       "    </tr>\n",
       "  </tbody>\n",
       "</table>\n",
       "</div>"
      ],
      "text/plain": [
       "    character                                               text\n",
       "0    narrator  QUI-GON stands in a tall stately room. Twelve ...\n",
       "1     QUI-GON  ...my only conclusion can be that it was a Sit...\n",
       "2  MACE WINDU                                     A Sith Lord?!?\n",
       "3      KI-ADI  Impossible! The Sith have been extinct for a m...\n",
       "4        YODA  The very Republic is threatened, if involved t..."
      ]
     },
     "execution_count": 78,
     "metadata": {},
     "output_type": "execute_result"
    }
   ],
   "source": [
    "# We only want character & text data, so create a new table that shows just these columns\n",
    "ch_txt_table = csv_file_pd[[\"character\", \"text\"]]\n",
    "ch_txt_table.head()"
   ]
  },
  {
   "cell_type": "code",
   "execution_count": 79,
   "metadata": {},
   "outputs": [
    {
     "name": "stdout",
     "output_type": "stream",
     "text": [
      "['narrator' 'QUI-GON' 'MACE WINDU' 'KI-ADI' 'YODA' 'ANAKIN' 'OBI-WAN'\n",
      " 'MACE' 'Kl-ADI-MUNDI' 'OBI-WAN ' 'CLONE COMMANDER GREE'\n",
      " 'CLONE COMMANDER CODY' 'MACE WlNDU' 'MACE WiNDU' 'AT-ST CLONE SERGEANT'\n",
      " 'CREATURE' 'CLONE SERGEANT' 'CLONE TROOPER' 'BAIL ORGANA' 'PILOT'\n",
      " 'MAS AMEDDA' 'DARTH SlDIOUS' 'QUI -GON' 'MEDICAL DROID' 'C-3PO' nan\n",
      " 'LUKE' 'YODA\\t (tickled, chuckles)' 'YODA\\t (shakes his head)'\n",
      " 'YODA\\t\\t (gathering all his strength)']\n"
     ]
    }
   ],
   "source": [
    "print(ch_txt_table['character'].unique())"
   ]
  },
  {
   "cell_type": "code",
   "execution_count": 80,
   "metadata": {},
   "outputs": [],
   "source": [
    "# We only want the Yoda text, so find those texts that correspond with the character being Yoda\n",
    "# yoda_quotes = ch_txt_table.loc[ch_txt_table[\"character\"] == 'YODA', ch_txt_table[\"character\"] == 'YODA\\t (shakes his head)']\n",
    "# yoda_quotes = ch_txt_table.loc[ch_txt_table[\"character\"] == ['YODA', 'YODA\\t (shakes his head)']]\n",
    "# yoda_quotes = ch_txt_table.loc[ch_txt_table[\"character\"] == 'YODA\\t (shakes his head)']\n",
    "# yoda_quotes.tail()"
   ]
  },
  {
   "cell_type": "code",
   "execution_count": 81,
   "metadata": {},
   "outputs": [
    {
     "data": {
      "text/html": [
       "<div>\n",
       "<style scoped>\n",
       "    .dataframe tbody tr th:only-of-type {\n",
       "        vertical-align: middle;\n",
       "    }\n",
       "\n",
       "    .dataframe tbody tr th {\n",
       "        vertical-align: top;\n",
       "    }\n",
       "\n",
       "    .dataframe thead th {\n",
       "        text-align: right;\n",
       "    }\n",
       "</style>\n",
       "<table border=\"1\" class=\"dataframe\">\n",
       "  <thead>\n",
       "    <tr style=\"text-align: right;\">\n",
       "      <th></th>\n",
       "      <th>character</th>\n",
       "      <th>text</th>\n",
       "    </tr>\n",
       "  </thead>\n",
       "  <tbody>\n",
       "    <tr>\n",
       "      <td>358</td>\n",
       "      <td>YODA</td>\n",
       "      <td>Told you, did he?</td>\n",
       "    </tr>\n",
       "    <tr>\n",
       "      <td>361</td>\n",
       "      <td>YODA</td>\n",
       "      <td>Unexpected this is, and unfortunate...</td>\n",
       "    </tr>\n",
       "    <tr>\n",
       "      <td>364</td>\n",
       "      <td>YODA\\t\\t (gathering all his strength)</td>\n",
       "      <td>No. Unfortunate that you rushed to face him......</td>\n",
       "    </tr>\n",
       "    <tr>\n",
       "      <td>367</td>\n",
       "      <td>YODA</td>\n",
       "      <td>Remember, a Jedi's strength flows from the For...</td>\n",
       "    </tr>\n",
       "    <tr>\n",
       "      <td>369</td>\n",
       "      <td>YODA</td>\n",
       "      <td>Luke...Luke...Do not...Do not underestimate th...</td>\n",
       "    </tr>\n",
       "  </tbody>\n",
       "</table>\n",
       "</div>"
      ],
      "text/plain": [
       "                                 character  \\\n",
       "358                                   YODA   \n",
       "361                                   YODA   \n",
       "364  YODA\\t\\t (gathering all his strength)   \n",
       "367                                   YODA   \n",
       "369                                   YODA   \n",
       "\n",
       "                                                  text  \n",
       "358                                  Told you, did he?  \n",
       "361             Unexpected this is, and unfortunate...  \n",
       "364  No. Unfortunate that you rushed to face him......  \n",
       "367  Remember, a Jedi's strength flows from the For...  \n",
       "369  Luke...Luke...Do not...Do not underestimate th...  "
      ]
     },
     "execution_count": 81,
     "metadata": {},
     "output_type": "execute_result"
    }
   ],
   "source": [
    "yoda_quotes = ch_txt_table[ch_txt_table[\"character\"].str.contains('YODA', na=False)]\n",
    "yoda_quotes.tail()"
   ]
  },
  {
   "cell_type": "code",
   "execution_count": 82,
   "metadata": {},
   "outputs": [],
   "source": [
    "# yoda_quotes = ch_txt_table.loc[ch_txt_table[\"character\"] == 'YODA\\t\\t (gathering all his strength)']\n",
    "# yoda_quotes.tail()"
   ]
  },
  {
   "cell_type": "code",
   "execution_count": 83,
   "metadata": {},
   "outputs": [],
   "source": [
    "# so, we can see that there are only three of the lines where Yoda's lines are not represented by just character 'YODA'"
   ]
  },
  {
   "cell_type": "code",
   "execution_count": 84,
   "metadata": {},
   "outputs": [
    {
     "data": {
      "text/html": [
       "<div>\n",
       "<style scoped>\n",
       "    .dataframe tbody tr th:only-of-type {\n",
       "        vertical-align: middle;\n",
       "    }\n",
       "\n",
       "    .dataframe tbody tr th {\n",
       "        vertical-align: top;\n",
       "    }\n",
       "\n",
       "    .dataframe thead th {\n",
       "        text-align: right;\n",
       "    }\n",
       "</style>\n",
       "<table border=\"1\" class=\"dataframe\">\n",
       "  <thead>\n",
       "    <tr style=\"text-align: right;\">\n",
       "      <th></th>\n",
       "      <th>character</th>\n",
       "      <th>text</th>\n",
       "    </tr>\n",
       "  </thead>\n",
       "  <tbody>\n",
       "    <tr>\n",
       "      <td>356</td>\n",
       "      <td>YODA</td>\n",
       "      <td>Your father he is.</td>\n",
       "    </tr>\n",
       "    <tr>\n",
       "      <td>358</td>\n",
       "      <td>YODA</td>\n",
       "      <td>Told you, did he?</td>\n",
       "    </tr>\n",
       "    <tr>\n",
       "      <td>361</td>\n",
       "      <td>YODA</td>\n",
       "      <td>Unexpected this is, and unfortunate...</td>\n",
       "    </tr>\n",
       "    <tr>\n",
       "      <td>367</td>\n",
       "      <td>YODA</td>\n",
       "      <td>Remember, a Jedi's strength flows from the For...</td>\n",
       "    </tr>\n",
       "    <tr>\n",
       "      <td>369</td>\n",
       "      <td>YODA</td>\n",
       "      <td>Luke...Luke...Do not...Do not underestimate th...</td>\n",
       "    </tr>\n",
       "  </tbody>\n",
       "</table>\n",
       "</div>"
      ],
      "text/plain": [
       "    character                                               text\n",
       "356      YODA                                 Your father he is.\n",
       "358      YODA                                  Told you, did he?\n",
       "361      YODA             Unexpected this is, and unfortunate...\n",
       "367      YODA  Remember, a Jedi's strength flows from the For...\n",
       "369      YODA  Luke...Luke...Do not...Do not underestimate th..."
      ]
     },
     "execution_count": 84,
     "metadata": {},
     "output_type": "execute_result"
    }
   ],
   "source": [
    "yoda_quotes = ch_txt_table.loc[ch_txt_table[\"character\"] == 'YODA']\n",
    "yoda_quotes.tail()"
   ]
  },
  {
   "cell_type": "code",
   "execution_count": 85,
   "metadata": {},
   "outputs": [
    {
     "data": {
      "text/plain": [
       "4       The very Republic is threatened, if involved ...\n",
       "6       Hard to see, the dark side is. Discover who t...\n",
       "9       With this Naboo queen you must stay, Qui-Gon....\n",
       "11      May the Force be with you. May the Force be w...\n",
       "13      (Cont'd) Master Qui-Gon more to say have you?...\n",
       "                             ...                        \n",
       "356     Your father he is. Your father he is. Your fa...\n",
       "358     Told you, did he? Told you, did he? Told you,...\n",
       "361     Unexpected this is, and unfortunate... Unexpe...\n",
       "367     Remember, a Jedi's strength flows from the Fo...\n",
       "369     Luke...Luke...Do not...Do not underestimate t...\n",
       "Name: text, Length: 100, dtype: object"
      ]
     },
     "execution_count": 85,
     "metadata": {},
     "output_type": "execute_result"
    }
   ],
   "source": [
    "# Create an empty string \n",
    "text_string = ''\n",
    "  \n",
    "# Iterate over each row \n",
    "for row in yoda_quotes.iterrows(): \n",
    "    # append to string for the current row \n",
    "    text_string = text_string + ' ' + yoda_quotes['text']\n",
    "#     text_string = text_string + ' '\n",
    "  \n",
    "# Print the list \n",
    "text_string"
   ]
  },
  {
   "cell_type": "code",
   "execution_count": 86,
   "metadata": {
    "scrolled": true
   },
   "outputs": [
    {
     "name": "stdout",
     "output_type": "stream",
     "text": [
      "The very Republic is threatened, if involved the Sith are.\n",
      "Hard to see, the dark side is. Discover who this assassin is, we must.\n",
      "With this Naboo queen you must stay, Qui-Gon. Protect her.\n",
      "May the Force be with you.\n",
      "(Cont'd) Master Qui-Gon more to say have you?\n",
      "A vergence, you say?\n",
      "But you do! Rrevealed your opinion is.\n",
      "Trained as a Jedi, you request for him?\n",
      "Tested he will be.\n",
      "Good, good, young one. How feel you?\n",
      "Afraid are you?\n",
      "See through you, we can.\n",
      "Afraid to lose her..I think.\n",
      "Eveything. Fear is the path to the dark side... fear leads to anger... anger leads to hate.. hate leads to suffering.\n",
      "A Jedi must have the deepest commitment, the most serious mind. I sense much fear in you.\n",
      "Then continue, we will.\n",
      "...Correct you were, Qui-Gon.\n",
      "Clouded, this boy's future is. Masked by his youth.\n",
      "An apprentice, you have, Qui-Gon. Impossible, to take on a second.\n",
      "Ready so early, are you? What know you of ready?\n",
      "Our own council we will keep on who is ready. More to learn, he has...\n",
      "And draw out the Queen's attacker.\n",
      "Young Skywalker's fate will be decided later.\n",
      "Train him not. Take him with you, but train him not!\n",
      "May the Force be with you.\n",
      "Confer on you, the level of Jedi Knight the Coucil does. But agree on you taking this boy as your Padawan learner, I do not.\n",
      "The Chosen One the boy may be; nevertheless, grave danger I fear in his training.\n",
      "Qui-Gon's defiance I sense in you. Need that, you do not. Agree, the council does. Your apprentice, young Skywalker will be.\n",
      "Always two there are....no more...no less. A master and an apprentice.\n",
      " Premonitions . . . premonitions . . . Hmmmm . . . these visions you have . . .\n",
      " Yourself you speak of, or someone you know?\n",
      " . . . close to you?\n",
      " Careful you must be when sensing the future, Anakin. The fear of loss is a path to the dark side.\n",
      " Death is a natural part of life. Rejoice for those around you who transform into the Force. Mourn them, do not. Miss them, do not. Attachment leads to jealousy. The shadow of greed, that is.\n",
      " Train yourself to let go of everything you fear to lose.\n",
      " Allow this appointment lightly, the Council does not. Disturbing is this move by Chancellor Palpatine.\n",
      " Hiding in the Outer Rim, Grievous is. The outlying systems, you must sweep.\n",
      " Master Kenobi, our spies contact, you must, and then wait.\n",
      " Go, I will. Good relations with the Wookiees, I have.\n",
      " Too much under the sway of the Chancellor, he is. Much anger there is in him. Too much pride in his powers.\n",
      " A prophecy . . . that misread could have been.\n",
      " I hope right you are. And now destroy the Droid armies on Kashyyyk, I will. May the Force be with you.\n",
      " Act on this, we must. The capture of General Grievous will end this war. Quickly and decisively we should proceed.\n",
      " A Master is needed, with more experience.\n",
      " Obi-Wan, my choice is.\n",
      " I agree.\n",
      " Then now the time is, Commander.\n",
      " To a dark place this line of thought will carry us. Hmmmmm. . . . great care we must take.\n",
      " Stink, this mud does. A moment to bathe, give me.\n",
      " (continuing) Not far, are we, from the emergency ship. Quickly . . .\n",
      " Good-bye. Chewbacca and Tarfful, miss you I will. Good friends you are. For your help, much gratitude and respect, I have.\n",
      " Master Kenobi, dark times are these. Good to see you. it is.\n",
      " With the help of the Wookiees, barely escape, I did.\n",
      " Heard from no one, have we.\n",
      " Received a coded retreat message, we have.\n",
      " Suggest dismantling the coded signal, do you?\n",
      " I agree. In a dark place we find ourselves ... a little more knowledge might light our way.\n",
      " If a special session of Congress there is, easier for us to enter the Jedi Temple it will be.\n",
      " Dismantle the coded signal quickly. That group back there, soon discovered will be.\n",
      " Killed not by clones, this Padawan. By a lightsaber, he was.\n",
      " Good . . . For the Clones to discover the recalibration, a long time it will take. To change it back, longer still. Hurry.\n",
      " If into the security recordings you go, only pain will you find.\n",
      " Destroy the Sith, we must.\n",
      " To fight this Lord Sidious, strong enough, you are not.\n",
      " Twisted by the dark side, young Skywalker has become. The boy you trained, gone he is . . . Consumed by Darth Vader.\n",
      " To question, no time there is.\n",
      " Use your feelings, Obi-Wan, and find him, you will. Visit the new Emperor, my task is. May the Force be with you.\n",
      " I hear a new apprentice, you have. Emperor, or should I call you Darth Sidious.\n",
      " Surprised?\n",
      " Not if anything I have to say about it, Lord Sidious.\n",
      " (continuing) At an end your rule is and not short enough it was, I must say.\n",
      " (continuing) If so powerful you are, why leave??\n",
      " Faith in your new apprentice, misplaced may be, as is your faith in the dark side of the Force.\n",
      " Destroy you I will, just as Master Kenobi, your apprentice will destroy.\n",
      " Hurry. Careful timing we will need.\n",
      " Into exile I must go. Failed, I have.\n",
      " Failed to stop the Sith Lord, I have. Still much to learn, there is ...\n",
      " Eternal consciousness.\n",
      " . . . to become one with the Force, and influence still have . . . A power greater than all, it is.\n",
      " A great Jedi Master, you have become, Qui-Gon Jinn. Your apprentice I gratefully become.\n",
      " Save them, we must. They are our last hope.\n",
      " Pregnant, she must still appear. Hidden, safe, the children must be kept.\n",
      " Split up, they should be.\n",
      " To Tatooine. To his family, send him.\n",
      " Strong the Force runs, in the Skywalker line. Hope, we can . . . Done, it is. Until the time is right, disappear we will.\n",
      " (continuing) Master Kenobi, wait a moment. In your solitude on Tatooine, training I have for you.\n",
      " An old friend has learned the path to immortality.\n",
      " One who has returned from the netherworld of the Force to train me . . . your old Master, Qui-Gon Jinn.\n",
      " The secret of the Ancient Order of the Whills, he studied. How to commune with him. I will teach you.\n",
      " How to join the Force, he will train you. Your consciousness you will retain, when one with the Force. Even your physical self, perhaps.\n",
      "Hmm. That face you make. Look I so old to young eyes?\n",
      "Soon will I rest. Yes, forever sleep. Earned it, I have.\n",
      "Strong am I with the Force... but not that strong! Twilight is upon me \n",
      "No more training do you require. Already know you that which you need.\n",
      "Mmm... rest I need. Yes... rest.\n",
      "Your father he is.\n",
      "Told you, did he?\n",
      "Unexpected this is, and unfortunate...\n",
      "Remember, a Jedi's strength flows from the Force.  But beware.  Anger, \n",
      "Luke...Luke...Do not...Do not underestimate the powers of the Emperor, \n"
     ]
    }
   ],
   "source": [
    "# Dependencies\n",
    "import os\n",
    "import csv\n",
    "\n",
    "# Specify the file to write to\n",
    "output_path = os.path.join(\"yoda.txt\")\n",
    "\n",
    "# Open the file using \"write\" mode. Specify the variable to hold the contents\n",
    "with open(output_path, 'w', newline='') as txtfile:\n",
    "\n",
    "    # Initialize csv.writer\n",
    "    csvwriter = csv.writer(txtfile, delimiter='.')\n",
    "    for row in yoda_quotes['text']:\n",
    "        # Write the first row (column headers)\n",
    "        csvwriter.writerow([row])\n",
    "\n",
    "        print(row)"
   ]
  },
  {
   "cell_type": "code",
   "execution_count": 87,
   "metadata": {},
   "outputs": [
    {
     "data": {
      "text/plain": [
       "'yoda.txt'"
      ]
     },
     "execution_count": 87,
     "metadata": {},
     "output_type": "execute_result"
    }
   ],
   "source": [
    "# Load in file\n",
    "yoda_file = \"yoda.txt\"\n",
    "for char in yoda_file:\n",
    "    if char == '\"':\n",
    "        char == ''\n",
    "yoda_file"
   ]
  },
  {
   "cell_type": "code",
   "execution_count": 88,
   "metadata": {},
   "outputs": [],
   "source": [
    "with open('yoda.txt', 'r') as f, open('yoda_edited.txt', 'w') as fo:\n",
    "    for line in f:\n",
    "        fo.write(line.replace('\"', '').replace(\"'\", \"\"))"
   ]
  },
  {
   "cell_type": "code",
   "execution_count": null,
   "metadata": {},
   "outputs": [],
   "source": []
  }
 ],
 "metadata": {
  "kernelspec": {
   "display_name": "Python [conda env:PythonData] *",
   "language": "python",
   "name": "conda-env-PythonData-py"
  },
  "language_info": {
   "codemirror_mode": {
    "name": "ipython",
    "version": 3
   },
   "file_extension": ".py",
   "mimetype": "text/x-python",
   "name": "python",
   "nbconvert_exporter": "python",
   "pygments_lexer": "ipython3",
   "version": "3.6.9"
  }
 },
 "nbformat": 4,
 "nbformat_minor": 2
}
